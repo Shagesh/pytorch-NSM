{
 "cells": [
  {
   "attachments": {},
   "cell_type": "markdown",
   "metadata": {},
   "source": [
    "# Compare old and new convolutional NSM codes on MNIST"
   ]
  },
  {
   "cell_type": "code",
   "execution_count": 1,
   "metadata": {},
   "outputs": [],
   "source": [
    "import time\n",
    "\n",
    "import matplotlib.pyplot as plt\n",
    "import seaborn as sns\n",
    "\n",
    "import numpy as np\n",
    "\n",
    "import torch\n",
    "import torch.utils.data\n",
    "import torch.nn.functional as F\n",
    "from torch import nn\n",
    "from torchvision import datasets, transforms\n",
    "\n",
    "from sklearn.linear_model import SGDClassifier\n",
    "\n",
    "from tqdm.auto import tqdm\n",
    "\n",
    "from pynsm import SimilarityMatching, extract_embeddings, NSM_Conv"
   ]
  },
  {
   "attachments": {},
   "cell_type": "markdown",
   "metadata": {},
   "source": [
    "## Load dataset and create data loaders"
   ]
  },
  {
   "cell_type": "code",
   "execution_count": 2,
   "metadata": {},
   "outputs": [],
   "source": [
    "# convert data to torch.FloatTensor\n",
    "transform = transforms.ToTensor()\n",
    "\n",
    "train_data = datasets.MNIST(\n",
    "    root=\"data\", train=True, download=True, transform=transform\n",
    ")\n",
    "test_data = datasets.MNIST(\n",
    "    root=\"data\", train=False, download=True, transform=transform\n",
    ")\n",
    "classes = [str(i) for i in range(10)]"
   ]
  },
  {
   "cell_type": "code",
   "execution_count": 3,
   "metadata": {},
   "outputs": [],
   "source": [
    "# Create training and test dataloaders\n",
    "# number of subprocesses to use for data loading\n",
    "# TT: num_workers > 0 can be problematic in notebooks\n",
    "num_workers = 0\n",
    "# how many samples per batch to load\n",
    "batch_size = 100\n",
    "\n",
    "train_loader = torch.utils.data.DataLoader(\n",
    "    train_data, batch_size=batch_size, num_workers=num_workers, shuffle=True\n",
    ")\n",
    "test_loader = torch.utils.data.DataLoader(\n",
    "    test_data, batch_size=batch_size, num_workers=num_workers, shuffle=False\n",
    ")"
   ]
  },
  {
   "cell_type": "code",
   "execution_count": 4,
   "metadata": {},
   "outputs": [
    {
     "name": "stdout",
     "output_type": "stream",
     "text": [
      "batch min=0, mean=0.136, max=1\n"
     ]
    },
    {
     "data": {
      "image/png": "[encoded data removed]",
      "text/plain": [
       "<Figure size 800x800 with 9 Axes>"
      ]
     },
     "metadata": {},
     "output_type": "display_data"
    }
   ],
   "source": [
    "# show sample images\n",
    "torch.manual_seed(42)\n",
    "\n",
    "X_batch, y_batch = next(iter(train_loader))\n",
    "X_max = X_batch.max()\n",
    "X_min = X_batch.min()\n",
    "\n",
    "print(f\"batch min={X_min:.3g}, mean={X_batch.mean():.3g}, max={X_max:.3g}\")\n",
    "\n",
    "# create a grid of 3x3 images\n",
    "fig, ax = plt.subplots(3, 3, sharex=True, sharey=True, figsize=(8, 8))\n",
    "for i in range(3):\n",
    "    for j in range(3):\n",
    "        batch_idx = i * 3 + j\n",
    "        crt_X = X_batch[batch_idx]\n",
    "        ax[i][j].imshow(crt_X.numpy().squeeze(), vmin=X_min, vmax=X_max, cmap=\"gray\")\n",
    "        ax[i][j].set_title(classes[y_batch[batch_idx].item()])"
   ]
  },
  {
   "attachments": {},
   "cell_type": "markdown",
   "metadata": {},
   "source": [
    "## Train models"
   ]
  },
  {
   "cell_type": "code",
   "execution_count": 5,
   "metadata": {},
   "outputs": [
    {
     "name": "stdout",
     "output_type": "stream",
     "text": [
      "Running on cuda.\n"
     ]
    }
   ],
   "source": [
    "n_epochs = 3\n",
    "\n",
    "device = torch.device(\"cuda\" if torch.cuda.is_available() else \"cpu\")\n",
    "print(f\"Running on {device}.\")"
   ]
  },
  {
   "cell_type": "code",
   "execution_count": 6,
   "metadata": {},
   "outputs": [
    {
     "data": {
      "application/vnd.jupyter.widget-view+json": {
       "model_id": "20f02ec44dfe4f1298c9787ada3b50e9",
       "version_major": 2,
       "version_minor": 0
      },
      "text/plain": [
       "epoch 1 / 3:   0%|          | 0/600 [00:00<?, ?it/s]"
      ]
     },
     "metadata": {},
     "output_type": "display_data"
    },
    {
     "name": "stderr",
     "output_type": "stream",
     "text": [
      "/mnt/home/ttesileanu/miniconda3/envs/pynsm/lib/python3.9/site-packages/torch/nn/modules/conv.py:459: UserWarning: Applied workaround for CuDNN issue, install nvrtc.so (Triggered internally at /opt/conda/conda-bld/pytorch_1682343997789/work/aten/src/ATen/native/cudnn/Conv_v8.cpp:80.)\n",
      "  return F.conv2d(input, weight, bias, self.stride,\n"
     ]
    },
    {
     "data": {
      "application/vnd.jupyter.widget-view+json": {
       "model_id": "1a2d6b245bdc4e3ea84a4612c1ea7c6e",
       "version_major": 2,
       "version_minor": 0
      },
      "text/plain": [
       "epoch 2 / 3:   0%|          | 0/600 [00:00<?, ?it/s]"
      ]
     },
     "metadata": {},
     "output_type": "display_data"
    },
    {
     "data": {
      "application/vnd.jupyter.widget-view+json": {
       "model_id": "7ea50836b1cf41ac8e1c42eae4620f82",
       "version_major": 2,
       "version_minor": 0
      },
      "text/plain": [
       "epoch 3 / 3:   0%|          | 0/600 [00:00<?, ?it/s]"
      ]
     },
     "metadata": {},
     "output_type": "display_data"
    },
    {
     "name": "stdout",
     "output_type": "stream",
     "text": [
      "Training new model took 28.79 seconds.\n"
     ]
    }
   ],
   "source": [
    "torch.manual_seed(42)\n",
    "\n",
    "# the encoder layer is convolutional\n",
    "encoder = nn.Conv2d(1, 50, 6, stride=1, padding=0, bias=False)\n",
    "\n",
    "# # XXX\n",
    "# torch.manual_seed(42)\n",
    "# temp = NSM_Conv(1, 50, 6)\n",
    "# encoder.weight.data = temp.encoder.weight\n",
    "# # XXX\n",
    "\n",
    "model = SimilarityMatching(\n",
    "    encoder, out_channels=50, iteration_projection=nn.ReLU()\n",
    ").to(device)\n",
    "\n",
    "optimizer = torch.optim.SGD(model.parameters(), lr=0.05)\n",
    "\n",
    "t0 = time.time()\n",
    "running_loss = []\n",
    "for epoch in range(n_epochs):\n",
    "    pbar = tqdm(train_loader, desc=f\"epoch {epoch + 1} / {n_epochs}\")\n",
    "    sample = 0\n",
    "    for idx, data in enumerate(pbar):\n",
    "        images, _ = data\n",
    "\n",
    "        images = images.to(device)\n",
    "\n",
    "        outputs = model(images)\n",
    "        loss = model.loss(images, outputs)\n",
    "\n",
    "        optimizer.zero_grad()\n",
    "        loss.backward()\n",
    "        optimizer.step()\n",
    "\n",
    "        running_loss.append(loss.item())\n",
    "\n",
    "        pbar.set_postfix({\"sample\": sample, \"loss\": running_loss[-1]}, refresh=False)\n",
    "\n",
    "        sample += len(images)\n",
    "\n",
    "t1 = time.time()\n",
    "print(f\"Training new model took {t1 - t0:.2f} seconds.\")"
   ]
  },
  {
   "attachments": {},
   "cell_type": "markdown",
   "metadata": {},
   "source": [
    "Train old model."
   ]
  },
  {
   "cell_type": "code",
   "execution_count": 7,
   "metadata": {},
   "outputs": [
    {
     "data": {
      "application/vnd.jupyter.widget-view+json": {
       "model_id": "e6c8c732be604dd6b99a107e1659742c",
       "version_major": 2,
       "version_minor": 0
      },
      "text/plain": [
       "epoch 1 / 3:   0%|          | 0/600 [00:00<?, ?it/s]"
      ]
     },
     "metadata": {},
     "output_type": "display_data"
    },
    {
     "data": {
      "application/vnd.jupyter.widget-view+json": {
       "model_id": "0dbe9b4cadb14f8686a09c590e5f527a",
       "version_major": 2,
       "version_minor": 0
      },
      "text/plain": [
       "epoch 2 / 3:   0%|          | 0/600 [00:00<?, ?it/s]"
      ]
     },
     "metadata": {},
     "output_type": "display_data"
    },
    {
     "data": {
      "application/vnd.jupyter.widget-view+json": {
       "model_id": "f972b07adea14f0a95f0fc43554d7418",
       "version_major": 2,
       "version_minor": 0
      },
      "text/plain": [
       "epoch 3 / 3:   0%|          | 0/600 [00:00<?, ?it/s]"
      ]
     },
     "metadata": {},
     "output_type": "display_data"
    },
    {
     "name": "stdout",
     "output_type": "stream",
     "text": [
      "Training old model took 33.52 seconds.\n"
     ]
    }
   ],
   "source": [
    "torch.manual_seed(42)\n",
    "\n",
    "model_old = NSM_Conv(1, 50, 6).to(device)\n",
    "\n",
    "t0 = time.time()\n",
    "running_loss_old = []\n",
    "for epoch in range(n_epochs):\n",
    "    pbar = tqdm(train_loader, desc=f\"epoch {epoch + 1} / {n_epochs}\")\n",
    "    sample = 0\n",
    "    for idx, data in enumerate(pbar):\n",
    "        images, labels = data\n",
    "\n",
    "        images = images.to(device)\n",
    "        labels = labels.to(device)\n",
    "\n",
    "        labels = F.one_hot(labels)\n",
    "\n",
    "        outputs = model_old(images)\n",
    "        model_old.train(outputs, images)\n",
    "\n",
    "        pooled_outputs = model_old.pool_output(outputs, k_size=2, stri=2)\n",
    "        loss = model_old.loss_NSM_conv(outputs, images)\n",
    "        running_loss_old.append(loss.item())\n",
    "\n",
    "        pbar.set_postfix(\n",
    "            {\"sample\": sample, \"loss\": running_loss_old[-1] / batch_size}, refresh=False\n",
    "        )\n",
    "\n",
    "        sample += len(images)\n",
    "\n",
    "t1 = time.time()\n",
    "print(f\"Training old model took {t1 - t0:.2f} seconds.\")"
   ]
  },
  {
   "cell_type": "code",
   "execution_count": 8,
   "metadata": {},
   "outputs": [
    {
     "data": {
      "text/plain": [
       "(-21.001207642257214, 58.526746559143064)"
      ]
     },
     "execution_count": 8,
     "metadata": {},
     "output_type": "execute_result"
    },
    {
     "data": {
      "image/png": "[encoded data removed]",
      "text/plain": [
       "<Figure size 640x480 with 2 Axes>"
      ]
     },
     "metadata": {},
     "output_type": "display_data"
    }
   ],
   "source": [
    "fig, ax = plt.subplots()\n",
    "ax.plot(running_loss, lw=1.0, c=\"C0\", alpha=0.7)\n",
    "ax.set_xlabel(\"batch\")\n",
    "ax.set_ylabel(\"loss (new model)\", color=\"C0\")\n",
    "sns.despine(ax=ax, offset=10)\n",
    "\n",
    "ax2 = ax.twinx()\n",
    "ax2.plot(running_loss_old, lw=1.0, c=\"C1\", alpha=0.7)\n",
    "ax2.set_ylabel(\"loss (old model)\", color=\"C1\")\n",
    "\n",
    "yl1 = ax.get_ylim()\n",
    "yl2 = ax2.get_ylim()\n",
    "\n",
    "ylims = (min(yl1[0], yl2[0] / 50), max(yl1[1], yl2[1] / 50))\n",
    "ax.set_ylim(*ylims)\n",
    "ax2.set_ylim(ylims[0] * 50, ylims[1] * 50)"
   ]
  },
  {
   "attachments": {},
   "cell_type": "markdown",
   "metadata": {},
   "source": [
    "Showcase some of the convolutional filters."
   ]
  },
  {
   "cell_type": "code",
   "execution_count": 9,
   "metadata": {},
   "outputs": [
    {
     "data": {
      "image/png": "[encoded data removed]",
      "text/plain": [
       "<Figure size 700x800 with 42 Axes>"
      ]
     },
     "metadata": {},
     "output_type": "display_data"
    }
   ],
   "source": [
    "filters = model.encoder.weight.detach().cpu().numpy()  # type: ignore\n",
    "filters_old = model_old.encoder.weight.detach().cpu().numpy()  # type: ignore\n",
    "\n",
    "fig, ax = plt.subplots(7, 6, sharex=True, sharey=True, figsize=(7, 8))\n",
    "for j in range(3):\n",
    "    for i in range(7):\n",
    "        crt_filter = filters[i * 3 + j, 0]\n",
    "        crt_max = np.max(np.abs(crt_filter))\n",
    "        ax[i][j].imshow(crt_filter, vmin=-crt_max, vmax=crt_max, cmap=\"RdBu\")\n",
    "        \n",
    "        crt_filter = filters_old[i * 3 + j, 0]\n",
    "        crt_max = np.max(np.abs(crt_filter))\n",
    "        ax[i][3 + j].imshow(crt_filter, vmin=-crt_max, vmax=crt_max, cmap=\"RdBu\")\n",
    "    \n",
    "    ax[0][j].set_title(\"new\")\n",
    "    ax[0][3 + j].set_title(\"old\")"
   ]
  },
  {
   "attachments": {},
   "cell_type": "markdown",
   "metadata": {},
   "source": [
    "## Test how well the pre-trained network can help with classification"
   ]
  },
  {
   "attachments": {},
   "cell_type": "markdown",
   "metadata": {},
   "source": [
    "We add max pooling operation to the output from our convolutional NSM module, then check how well an SVM trained on this final output manages to classify digits."
   ]
  },
  {
   "cell_type": "code",
   "execution_count": 10,
   "metadata": {},
   "outputs": [
    {
     "data": {
      "application/vnd.jupyter.widget-view+json": {
       "model_id": "bfd34ccca995406cb6f4174fe6c57b42",
       "version_major": 2,
       "version_minor": 0
      },
      "text/plain": [
       "  0%|          | 0/600 [00:00<?, ?it/s]"
      ]
     },
     "metadata": {},
     "output_type": "display_data"
    },
    {
     "name": "stdout",
     "output_type": "stream",
     "text": [
      "Embedding training set (new model) took 9.70 seconds.\n"
     ]
    },
    {
     "data": {
      "application/vnd.jupyter.widget-view+json": {
       "model_id": "c41132d2e3754bf89ae6ea58cdbdf6cc",
       "version_major": 2,
       "version_minor": 0
      },
      "text/plain": [
       "  0%|          | 0/100 [00:00<?, ?it/s]"
      ]
     },
     "metadata": {},
     "output_type": "display_data"
    },
    {
     "name": "stdout",
     "output_type": "stream",
     "text": [
      "Embedding test set (new model) took 1.53 seconds.\n"
     ]
    }
   ],
   "source": [
    "inference_model = nn.Sequential(model, nn.MaxPool2d(kernel_size=2, stride=2))\n",
    "t0 = time.time()\n",
    "train_embed = extract_embeddings(inference_model, train_loader, progress=tqdm)\n",
    "t1 = time.time()\n",
    "print(f\"Embedding training set (new model) took {t1 - t0:.2f} seconds.\")\n",
    "\n",
    "t0 = time.time()\n",
    "test_embed = extract_embeddings(inference_model, test_loader, progress=tqdm)\n",
    "t1 = time.time()\n",
    "print(f\"Embedding test set (new model) took {t1 - t0:.2f} seconds.\")"
   ]
  },
  {
   "cell_type": "code",
   "execution_count": 11,
   "metadata": {},
   "outputs": [
    {
     "data": {
      "application/vnd.jupyter.widget-view+json": {
       "model_id": "7f6c0769682a470a91e1f016190fab73",
       "version_major": 2,
       "version_minor": 0
      },
      "text/plain": [
       "train:   0%|          | 0/600 [00:00<?, ?it/s]"
      ]
     },
     "metadata": {},
     "output_type": "display_data"
    },
    {
     "name": "stdout",
     "output_type": "stream",
     "text": [
      "Embedding training set (old model) took 38.22 seconds.\n"
     ]
    },
    {
     "data": {
      "application/vnd.jupyter.widget-view+json": {
       "model_id": "4f04d69b725c43bf9bed79d09acef274",
       "version_major": 2,
       "version_minor": 0
      },
      "text/plain": [
       "test:   0%|          | 0/100 [00:00<?, ?it/s]"
      ]
     },
     "metadata": {},
     "output_type": "display_data"
    },
    {
     "name": "stdout",
     "output_type": "stream",
     "text": [
      "Embedding test set (old model) took 3.10 seconds.\n"
     ]
    }
   ],
   "source": [
    "t0 = time.time()\n",
    "\n",
    "train_labels_data_old = []\n",
    "train_embedded_data_old = []\n",
    "\n",
    "###########################################\n",
    "# Extract train set values after training #\n",
    "###########################################\n",
    "for idx, data in enumerate(tqdm(train_loader, desc=\"train\")):\n",
    "    images, lbl = data\n",
    "\n",
    "    outputs = model_old(images.to(device))\n",
    "    pooled_outputs = model_old.pool_output(outputs, k_size=2, stri=2)\n",
    "\n",
    "    if train_embedded_data_old == []:\n",
    "        train_embedded_data_old = pooled_outputs.detach().cpu()\n",
    "        train_labels_data_old = lbl\n",
    "    else:\n",
    "        train_embedded_data_old = torch.cat(\n",
    "            (train_embedded_data_old, pooled_outputs.detach().cpu()), 0\n",
    "        )\n",
    "        train_labels_data_old = torch.cat((train_labels_data_old, lbl), 0)  # type: ignore\n",
    "\n",
    "test_labels_data_old = []\n",
    "test_embedded_data_old = []\n",
    "\n",
    "t1 = time.time()\n",
    "print(f\"Embedding training set (old model) took {t1 - t0:.2f} seconds.\")\n",
    "\n",
    "##########################################\n",
    "# Extract test set values after training #\n",
    "##########################################\n",
    "t0 = time.time()\n",
    "for idx, data in enumerate(tqdm(test_loader, desc=\"test\")):\n",
    "    images, lbl = data\n",
    "\n",
    "    outputs = model_old(images.to(device))\n",
    "    pooled_outputs = model_old.pool_output(outputs, k_size=2, stri=2)\n",
    "\n",
    "    if test_embedded_data_old == []:\n",
    "        test_embedded_data_old = pooled_outputs.detach().cpu()\n",
    "        test_labels_data_old = lbl\n",
    "    else:\n",
    "        test_embedded_data_old = torch.cat(\n",
    "            (test_embedded_data_old, pooled_outputs.detach().cpu()), 0\n",
    "        )\n",
    "        test_labels_data_old = torch.cat((test_labels_data_old, lbl), 0)  # type: ignore\n",
    "\n",
    "t1 = time.time()\n",
    "print(f\"Embedding test set (old model) took {t1 - t0:.2f} seconds.\")"
   ]
  },
  {
   "cell_type": "code",
   "execution_count": 12,
   "metadata": {},
   "outputs": [
    {
     "name": "stdout",
     "output_type": "stream",
     "text": [
      "Accuracy of new model on 60000 training images: 99.2%.\n",
      "Accuracy of new model on 10000 test images: 98.4%.\n"
     ]
    }
   ],
   "source": [
    "n_train = len(train_embed.output)\n",
    "n_test = len(test_embed.output)\n",
    "\n",
    "classifier = SGDClassifier(\n",
    "    alpha=0.0001,\n",
    "    average=False,\n",
    "    class_weight=None,\n",
    "    early_stopping=False,\n",
    "    epsilon=0.1,\n",
    "    eta0=0.001,\n",
    "    fit_intercept=True,\n",
    "    l1_ratio=0.15,\n",
    "    learning_rate=\"optimal\",\n",
    "    loss=\"hinge\",\n",
    "    max_iter=1000,\n",
    "    n_iter_no_change=5,\n",
    "    n_jobs=-1,\n",
    "    penalty=\"l2\",\n",
    "    power_t=0.5,\n",
    "    random_state=123,\n",
    "    shuffle=True,\n",
    "    tol=0.001,\n",
    "    validation_fraction=0.1,\n",
    "    verbose=0,\n",
    "    warm_start=False,\n",
    ")\n",
    "\n",
    "train_data = train_embed.output.reshape(n_train, -1)\n",
    "classifier.fit(train_data, train_embed.label)\n",
    "train_error = classifier.score(train_data, train_embed.label)\n",
    "print(\n",
    "    f\"Accuracy of new model on {len(train_embed.output)} training images: \"\n",
    "    f\"{100 * train_error:.1f}%.\"\n",
    ")\n",
    "\n",
    "test_error = classifier.score(test_embed.output.reshape(n_test, -1), test_embed.label)\n",
    "print(\n",
    "    f\"Accuracy of new model on {len(test_embed.output)} test images: \"\n",
    "    f\"{100 * test_error:.1f}%.\"\n",
    ")"
   ]
  },
  {
   "cell_type": "code",
   "execution_count": 13,
   "metadata": {},
   "outputs": [
    {
     "name": "stdout",
     "output_type": "stream",
     "text": [
      "Accuracy of old model on 60000 training images: 99.6%.\n",
      "Accuracy of old model on 10000 test images: 98.2%.\n"
     ]
    }
   ],
   "source": [
    "n_train = len(train_embedded_data_old)\n",
    "resh_train_embedded_data_old = train_embedded_data_old.reshape(n_train, -1)  # type: ignore\n",
    "\n",
    "rng = np.random.default_rng(42)\n",
    "indices = rng.integers(0, n_train, size=n_train)\n",
    "data = resh_train_embedded_data_old.numpy()[indices, :]\n",
    "target = train_labels_data_old[indices].numpy()\n",
    "\n",
    "classifier_old = SGDClassifier(\n",
    "    alpha=0.0001,\n",
    "    average=False,\n",
    "    class_weight=None,\n",
    "    early_stopping=False,\n",
    "    epsilon=0.1,\n",
    "    eta0=0.001,\n",
    "    fit_intercept=True,\n",
    "    l1_ratio=0.15,\n",
    "    learning_rate=\"optimal\",\n",
    "    loss=\"hinge\",\n",
    "    max_iter=1000,\n",
    "    n_iter_no_change=5,\n",
    "    n_jobs=-1,\n",
    "    penalty=\"l2\",\n",
    "    power_t=0.5,\n",
    "    random_state=123,\n",
    "    shuffle=True,\n",
    "    tol=0.001,\n",
    "    validation_fraction=0.1,\n",
    "    verbose=0,\n",
    "    warm_start=False,\n",
    ")\n",
    "classifier_old.fit(data, target)\n",
    "\n",
    "train_error_old = classifier_old.score(data, target)\n",
    "print(\n",
    "    f\"Accuracy of old model on {n_train} training images: {100 * train_error_old:.1f}%.\"\n",
    ")\n",
    "\n",
    "n_test = len(test_embedded_data_old)\n",
    "resh_test_embedded_data_old = test_embedded_data_old.reshape(n_test, -1)  # type: ignore\n",
    "test_error_old = classifier_old.score(\n",
    "    resh_test_embedded_data_old.numpy(), test_labels_data_old.numpy()  # type: ignore\n",
    ")\n",
    "print(\n",
    "    f\"Accuracy of old model on {n_test} test images: {100 * test_error_old:.1f}%.\"\n",
    ")"
   ]
  }
 ],
 "metadata": {
  "kernelspec": {
   "display_name": "pynsm",
   "language": "python",
   "name": "python3"
  },
  "language_info": {
   "codemirror_mode": {
    "name": "ipython",
    "version": 3
   },
   "file_extension": ".py",
   "mimetype": "text/x-python",
   "name": "python",
   "nbconvert_exporter": "python",
   "pygments_lexer": "ipython3",
   "version": "3.9.16"
  },
  "orig_nbformat": 4
 },
 "nbformat": 4,
 "nbformat_minor": 2
}
