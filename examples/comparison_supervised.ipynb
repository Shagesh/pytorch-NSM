{
 "cells": [
  {
   "cell_type": "markdown",
   "metadata": {},
   "source": [
    "# Compare old and new supervised NSM codes"
   ]
  },
  {
   "cell_type": "code",
   "execution_count": 1,
   "metadata": {},
   "outputs": [],
   "source": [
    "import time\n",
    "from copy import deepcopy\n",
    "\n",
    "import matplotlib.pyplot as plt\n",
    "import seaborn as sns\n",
    "\n",
    "import numpy as np\n",
    "\n",
    "import torch\n",
    "import torch.utils.data\n",
    "import torch.nn.functional as F\n",
    "from torchvision import datasets, transforms\n",
    "\n",
    "from tqdm.auto import tqdm\n",
    "\n",
    "from pynsm import Supervised_NSM_Conv, SupervisedSimilarityMatching"
   ]
  },
  {
   "attachments": {},
   "cell_type": "markdown",
   "metadata": {},
   "source": [
    "## Load dataset and create data loaders"
   ]
  },
  {
   "cell_type": "code",
   "execution_count": 2,
   "metadata": {},
   "outputs": [],
   "source": [
    "# convert data to torch.FloatTensor\n",
    "transform = transforms.ToTensor()\n",
    "\n",
    "train_data = datasets.MNIST(\n",
    "    root=\"data\", train=True, download=True, transform=transform\n",
    ")\n",
    "test_data = datasets.MNIST(\n",
    "    root=\"data\", train=False, download=True, transform=transform\n",
    ")\n",
    "classes = [str(i) for i in range(10)]"
   ]
  },
  {
   "cell_type": "code",
   "execution_count": 3,
   "metadata": {},
   "outputs": [],
   "source": [
    "# Create training and test dataloaders\n",
    "# number of subprocesses to use for data loading\n",
    "# TT: num_workers > 0 can be problematic in notebooks\n",
    "num_workers = 0\n",
    "# how many samples per batch to load\n",
    "batch_size = 100\n",
    "\n",
    "train_loader = torch.utils.data.DataLoader(\n",
    "    train_data, batch_size=batch_size, num_workers=num_workers, shuffle=True\n",
    ")\n",
    "test_loader = torch.utils.data.DataLoader(\n",
    "    test_data, batch_size=batch_size, num_workers=num_workers, shuffle=False\n",
    ")"
   ]
  },
  {
   "cell_type": "code",
   "execution_count": 4,
   "metadata": {},
   "outputs": [
    {
     "name": "stdout",
     "output_type": "stream",
     "text": [
      "batch min=0, mean=0.136, max=1\n"
     ]
    },
    {
     "data": {
      "image/png": "[encoded data removed]",
      "text/plain": [
       "<Figure size 800x800 with 9 Axes>"
      ]
     },
     "metadata": {},
     "output_type": "display_data"
    }
   ],
   "source": [
    "# show sample images\n",
    "torch.manual_seed(42)\n",
    "\n",
    "X_batch, y_batch = next(iter(train_loader))\n",
    "X_max = X_batch.max()\n",
    "X_min = X_batch.min()\n",
    "\n",
    "print(f\"batch min={X_min:.3g}, mean={X_batch.mean():.3g}, max={X_max:.3g}\")\n",
    "\n",
    "# create a grid of 3x3 images\n",
    "fig, ax = plt.subplots(3, 3, sharex=True, sharey=True, figsize=(8, 8))\n",
    "for i in range(3):\n",
    "    for j in range(3):\n",
    "        batch_idx = i * 3 + j\n",
    "        crt_X = X_batch[batch_idx]\n",
    "        ax[i][j].imshow(crt_X.numpy().squeeze(), vmin=X_min, vmax=X_max, cmap=\"gray\")\n",
    "        ax[i][j].set_title(classes[y_batch[batch_idx].item()])"
   ]
  },
  {
   "attachments": {},
   "cell_type": "markdown",
   "metadata": {},
   "source": [
    "## Try the supervised convolutional NSM module"
   ]
  },
  {
   "cell_type": "markdown",
   "metadata": {},
   "source": [
    "Check that the output of `forward()` matches."
   ]
  },
  {
   "cell_type": "code",
   "execution_count": 5,
   "metadata": {},
   "outputs": [
    {
     "name": "stdout",
     "output_type": "stream",
     "text": [
      "Running on cuda:0.\n"
     ]
    },
    {
     "name": "stderr",
     "output_type": "stream",
     "text": [
      "/mnt/home/ttesileanu/miniconda3/envs/pynsm/lib/python3.9/site-packages/torch/nn/modules/conv.py:459: UserWarning: Applied workaround for CuDNN issue, install nvrtc.so (Triggered internally at /opt/conda/conda-bld/pytorch_1682343997789/work/aten/src/ATen/native/cudnn/Conv_v8.cpp:80.)\n",
      "  return F.conv2d(input, weight, bias, self.stride,\n"
     ]
    }
   ],
   "source": [
    "torch.manual_seed(42)\n",
    "\n",
    "device = torch.device(\"cuda:0\" if torch.cuda.is_available() else \"cpu\")\n",
    "print(f\"Running on {device}.\")\n",
    "\n",
    "num_labels = len(classes)\n",
    "alpha = 1e-1\n",
    "tau = 1e-1\n",
    "tauLabel = 1e0\n",
    "model = Supervised_NSM_Conv(\n",
    "    1, 50, 6, num_labels, etaW=1e-3, etaM=1e-3, tau=tau, tauLabel=tauLabel\n",
    ")\n",
    "\n",
    "encoder = torch.nn.Conv2d(1, 50, 6)\n",
    "encoder.weight.data = model.encoder.weight.detach().clone()\n",
    "encoder.bias.data = model.encoder.bias.detach().clone()\n",
    "encoder.bias.requires_grad_(False)\n",
    "new_model = SupervisedSimilarityMatching(\n",
    "    encoder, num_labels, 50, label_bias=True, iteration_projection=torch.nn.ReLU()\n",
    ")\n",
    "\n",
    "new_model.encoders[1].weight.data = 36 * model.encoder_labels.weight.mean(dim=[2, 3]).detach().clone()\n",
    "new_model.encoders[1].bias.data = model.encoder_labels.bias.detach().clone()\n",
    "\n",
    "new_model.competitor.weight.data = model.competitor.weight.detach().clone()\n",
    "\n",
    "model = model.to(device=device, dtype=torch.float64)\n",
    "new_model = new_model.to(device=device, dtype=torch.float64)\n",
    "\n",
    "torch.manual_seed(42)\n",
    "\n",
    "images, labels = next(iter(train_loader))\n",
    "images = images.to(device=device, dtype=torch.float64)\n",
    "labels = labels.to(device=device)\n",
    "\n",
    "one_hot_labels = F.one_hot(labels, num_classes=num_labels)\n",
    "repeat_labels = torch.tile(\n",
    "    alpha * one_hot_labels[:, :, None, None], images.shape[2:4]\n",
    ").to(dtype=torch.float64)\n",
    "out = model(images, 10 * repeat_labels)\n",
    "\n",
    "new_out = new_model(images, one_hot_labels.to(dtype=torch.float64))"
   ]
  },
  {
   "cell_type": "code",
   "execution_count": 6,
   "metadata": {},
   "outputs": [
    {
     "data": {
      "text/plain": [
       "tensor(1.1708e-07, device='cuda:0', dtype=torch.float64)"
      ]
     },
     "execution_count": 6,
     "metadata": {},
     "output_type": "execute_result"
    }
   ],
   "source": [
    "(out - new_out).abs().max()"
   ]
  },
  {
   "cell_type": "markdown",
   "metadata": {},
   "source": [
    "Check that the output of `loss()` matches."
   ]
  },
  {
   "cell_type": "code",
   "execution_count": 7,
   "metadata": {},
   "outputs": [],
   "source": [
    "torch.manual_seed(42)\n",
    "\n",
    "model = Supervised_NSM_Conv(\n",
    "    1, 50, 6, num_labels, etaW=1e-3, etaM=1e-3, tau=tau, tauLabel=tauLabel\n",
    ")\n",
    "\n",
    "encoder = torch.nn.Conv2d(1, 50, 6)\n",
    "encoder.weight.data = model.encoder.weight.detach().clone()\n",
    "encoder.bias.data = model.encoder.bias.detach().clone()\n",
    "encoder.bias.requires_grad_(False)\n",
    "new_model = SupervisedSimilarityMatching(\n",
    "    encoder, num_labels, 50, label_bias=True, iteration_projection=torch.nn.ReLU()\n",
    ")\n",
    "\n",
    "new_model.encoders[1].weight.data = 36 * model.encoder_labels.weight.mean(dim=[2, 3]).detach().clone()\n",
    "new_model.encoders[1].bias.data = model.encoder_labels.bias.detach().clone()\n",
    "new_model.encoders[1].bias.requires_grad_(False)\n",
    "\n",
    "new_model.competitor.weight.data = model.competitor.weight.detach().clone()\n",
    "\n",
    "model = model.to(device=device, dtype=torch.float64)\n",
    "new_model = new_model.to(device=device, dtype=torch.float64)\n",
    "\n",
    "torch.manual_seed(42)\n",
    "\n",
    "images, labels = next(iter(train_loader))\n",
    "images = images.to(device=device, dtype=torch.float64)\n",
    "labels = labels.to(device)\n",
    "\n",
    "one_hot_labels = F.one_hot(labels, num_classes=num_labels)\n",
    "repeat_labels = torch.tile(\n",
    "    alpha * one_hot_labels[:, :, None, None], images.shape[2:4]\n",
    ").to(device=device, dtype=torch.float64)\n",
    "out = model(images, 10 * repeat_labels)\n",
    "loss = model.loss_NSM_conv(\n",
    "    out, images.to(device), repeat_labels, print_=False\n",
    ").item()\n",
    "\n",
    "new_out = new_model(images, one_hot_labels.to(torch.float64))\n",
    "\n",
    "assert (out - new_out).abs().max() < 1e-6\n",
    "\n",
    "new_loss = new_model.loss(images, one_hot_labels.to(torch.float64) / 10, new_out).item()"
   ]
  },
  {
   "cell_type": "code",
   "execution_count": 8,
   "metadata": {},
   "outputs": [
    {
     "data": {
      "text/plain": [
       "4.942712905631197e-13"
      ]
     },
     "execution_count": 8,
     "metadata": {},
     "output_type": "execute_result"
    }
   ],
   "source": [
    "new_loss - loss / 50"
   ]
  },
  {
   "cell_type": "markdown",
   "metadata": {},
   "source": [
    "Finally, check the updates."
   ]
  },
  {
   "cell_type": "code",
   "execution_count": 9,
   "metadata": {},
   "outputs": [],
   "source": [
    "torch.manual_seed(42)\n",
    "\n",
    "model = Supervised_NSM_Conv(\n",
    "    1, 50, 6, num_labels, etaW=1e-3, etaM=1e-3, tau=tau, tauLabel=tauLabel\n",
    ")\n",
    "\n",
    "encoder = torch.nn.Conv2d(1, 50, 6)\n",
    "encoder.weight.data = model.encoder.weight.detach().clone()\n",
    "encoder.bias.data = model.encoder.bias.detach().clone()\n",
    "encoder.bias.requires_grad_(False)\n",
    "new_model = SupervisedSimilarityMatching(\n",
    "    encoder, num_labels, 50, label_bias=True, iteration_projection=torch.nn.ReLU()\n",
    ")\n",
    "\n",
    "new_model.encoders[1].weight.data = 36 * model.encoder_labels.weight.mean(dim=[2, 3]).detach().clone()\n",
    "new_model.encoders[1].bias.data = model.encoder_labels.bias.detach().clone()\n",
    "new_model.encoders[1].bias.requires_grad_(False)\n",
    "\n",
    "new_model.competitor.weight.data = model.competitor.weight.detach().clone()\n",
    "\n",
    "model = model.to(device=device, dtype=torch.float64)\n",
    "new_model = new_model.to(device=device, dtype=torch.float64)\n",
    "\n",
    "optimizer = torch.optim.SGD(new_model.parameters(), lr=0.05)\n",
    "\n",
    "torch.manual_seed(42)\n",
    "\n",
    "images, labels = next(iter(train_loader))\n",
    "images = images.to(device=device, dtype=torch.float64)\n",
    "labels = labels.to(device)\n",
    "\n",
    "one_hot_labels = F.one_hot(labels, num_classes=num_labels)\n",
    "repeat_labels = torch.tile(\n",
    "    alpha * one_hot_labels[:, :, None, None], images.shape[2:4]\n",
    ").to(device=device, dtype=torch.float64)\n",
    "out = model(images, 10 * repeat_labels)\n",
    "loss = model.loss_NSM_conv(\n",
    "    out, images.to(device), repeat_labels, print_=False\n",
    ")\n",
    "\n",
    "new_out = new_model(images, one_hot_labels.to(torch.float64))\n",
    "\n",
    "assert (out - new_out).abs().max() < 1e-6\n",
    "\n",
    "new_loss = new_model.loss(images, one_hot_labels.to(torch.float64) / 10, new_out)\n",
    "\n",
    "assert (new_loss - loss / 50).abs().item() < 1e-6\n",
    "\n",
    "model0 = deepcopy(model)\n",
    "new_model0 = deepcopy(new_model)\n",
    "\n",
    "model.train(out, images, repeat_labels)\n",
    "\n",
    "optimizer.zero_grad()\n",
    "new_loss.backward()\n",
    "optimizer.step()\n",
    "\n",
    "images, labels = next(iter(train_loader))\n",
    "images = images.to(device=device, dtype=torch.float64)\n",
    "labels = labels.to(device)\n",
    "\n",
    "one_hot_labels = F.one_hot(labels, num_classes=num_labels)\n",
    "repeat_labels = torch.tile(\n",
    "    alpha * one_hot_labels[:, :, None, None], images.shape[2:4]\n",
    ").to(device=device, dtype=torch.float64)\n",
    "another_out = model(images, 10 * repeat_labels)\n",
    "another_loss = model.loss_NSM_conv(\n",
    "    another_out, images.to(device), repeat_labels, print_=False\n",
    ").item()\n",
    "\n",
    "another_new_out = new_model(images, one_hot_labels.to(torch.float64))\n",
    "\n",
    "another_new_loss = new_model.loss(images, one_hot_labels.to(torch.float64) / 10, another_new_out).item()"
   ]
  },
  {
   "cell_type": "code",
   "execution_count": 10,
   "metadata": {},
   "outputs": [
    {
     "data": {
      "text/plain": [
       "tensor(1.1909e-11, device='cuda:0', dtype=torch.float64,\n",
       "       grad_fn=<MaxBackward1>)"
      ]
     },
     "execution_count": 10,
     "metadata": {},
     "output_type": "execute_result"
    }
   ],
   "source": [
    "tmp_db = model.encoder.bias - model0.encoder.bias\n",
    "tmp_db_new = new_model.encoders[0].bias - new_model0.encoders[0].bias\n",
    "assert tmp_db.abs().max() < 1e-10\n",
    "assert tmp_db_new.abs().max() < 1e-10\n",
    "\n",
    "tmp_dW = model.encoder.weight - model0.encoder.weight\n",
    "tmp_dW_new = new_model.encoders[0].weight - new_model0.encoders[0].weight\n",
    "(tmp_dW - tmp_dW_new).abs().max()"
   ]
  },
  {
   "cell_type": "code",
   "execution_count": 11,
   "metadata": {},
   "outputs": [
    {
     "data": {
      "text/plain": [
       "tensor(3.1194e-12, device='cuda:0', dtype=torch.float64,\n",
       "       grad_fn=<MaxBackward1>)"
      ]
     },
     "execution_count": 11,
     "metadata": {},
     "output_type": "execute_result"
    }
   ],
   "source": [
    "tmp_db = model.encoder_labels.bias - model0.encoder_labels.bias\n",
    "tmp_db_new = new_model.encoders[1].bias - new_model0.encoders[1].bias\n",
    "assert tmp_db.abs().max() < 1e-10\n",
    "assert tmp_db_new.abs().max() < 1e-10\n",
    "\n",
    "tmp_dW = model.encoder_labels.weight - model0.encoder_labels.weight\n",
    "tmp_dW_new = new_model.encoders[1].weight - new_model0.encoders[1].weight\n",
    "\n",
    "assert tmp_dW[2][3].std().item() < 1e-10\n",
    "tmp_dW = tmp_dW.mean(dim=[2, 3])\n",
    "(tmp_dW - tmp_dW_new).abs().max()"
   ]
  },
  {
   "cell_type": "code",
   "execution_count": 12,
   "metadata": {},
   "outputs": [
    {
     "data": {
      "text/plain": [
       "tensor(3.1386e-10, device='cuda:0', dtype=torch.float64,\n",
       "       grad_fn=<MaxBackward1>)"
      ]
     },
     "execution_count": 12,
     "metadata": {},
     "output_type": "execute_result"
    }
   ],
   "source": [
    "tmp_dW = model.competitor.weight - model0.competitor.weight\n",
    "tmp_dW_new = new_model.competitor.weight - new_model0.competitor.weight\n",
    "(tmp_dW - tmp_dW_new).abs().max()"
   ]
  },
  {
   "cell_type": "code",
   "execution_count": 13,
   "metadata": {},
   "outputs": [
    {
     "data": {
      "text/plain": [
       "tensor(3.1386e-10, device='cuda:0', dtype=torch.float64,\n",
       "       grad_fn=<MaxBackward1>)"
      ]
     },
     "execution_count": 13,
     "metadata": {},
     "output_type": "execute_result"
    }
   ],
   "source": [
    "(new_model.competitor.weight - model.competitor.weight).abs().max()"
   ]
  },
  {
   "cell_type": "code",
   "execution_count": 14,
   "metadata": {},
   "outputs": [
    {
     "data": {
      "text/plain": [
       "tensor(1.1909e-11, device='cuda:0', dtype=torch.float64,\n",
       "       grad_fn=<MaxBackward1>)"
      ]
     },
     "execution_count": 14,
     "metadata": {},
     "output_type": "execute_result"
    }
   ],
   "source": [
    "(new_model.encoders[0].weight - model.encoder.weight).abs().max()"
   ]
  },
  {
   "cell_type": "code",
   "execution_count": 15,
   "metadata": {},
   "outputs": [
    {
     "data": {
      "text/plain": [
       "tensor(0.0445, device='cuda:0', dtype=torch.float64, grad_fn=<StdBackward0>)"
      ]
     },
     "execution_count": 15,
     "metadata": {},
     "output_type": "execute_result"
    }
   ],
   "source": [
    "model.encoder_labels.weight[2][3].std()"
   ]
  },
  {
   "cell_type": "markdown",
   "metadata": {},
   "source": [
    "Check that the results match on an entire run."
   ]
  },
  {
   "cell_type": "code",
   "execution_count": 16,
   "metadata": {
    "scrolled": true
   },
   "outputs": [
    {
     "data": {
      "application/vnd.jupyter.widget-view+json": {
       "model_id": "b942477cf06948688ed37a3e71009751",
       "version_major": 2,
       "version_minor": 0
      },
      "text/plain": [
       "epoch 1 / 1:   0%|          | 0/600 [00:00<?, ?it/s]"
      ]
     },
     "metadata": {},
     "output_type": "display_data"
    },
    {
     "name": "stdout",
     "output_type": "stream",
     "text": [
      "Training took 61.01 seconds.\n"
     ]
    }
   ],
   "source": [
    "torch.manual_seed(42)\n",
    "n_epochs = 1\n",
    "\n",
    "num_labels = len(classes)\n",
    "running_loss = []\n",
    "alpha = 1e-1\n",
    "tau = 1e-1\n",
    "tauLabel = 1e0\n",
    "model = Supervised_NSM_Conv(\n",
    "    1, 50, 6, num_labels, etaW=1e-3, etaM=1e-3, tau=tau, tauLabel=tauLabel\n",
    ").to(device=device, dtype=torch.float64)\n",
    "\n",
    "model_copy = deepcopy(model)\n",
    "\n",
    "t0 = time.time()\n",
    "torch.manual_seed(42)\n",
    "for epoch in range(n_epochs):\n",
    "    pbar = tqdm(train_loader, desc=f\"epoch {epoch + 1} / {n_epochs}\")\n",
    "    sample = 0\n",
    "    for idx, data in enumerate(pbar):\n",
    "        images, labels = data\n",
    "\n",
    "        images = images.to(device=device, dtype=torch.float64)\n",
    "        labels = labels.to(device)\n",
    "\n",
    "        one_hot_labels = F.one_hot(labels, num_classes=num_labels)\n",
    "        repeat_labels = torch.tile(\n",
    "            alpha * one_hot_labels[:, :, None, None], images.shape[2:4]\n",
    "        ).to(dtype=torch.float64)\n",
    "\n",
    "        # forward pass\n",
    "        # XXX why are the labels multiplied by 10 only here??\n",
    "        outputs = model(images, 10 * repeat_labels)\n",
    "        # loss estimation\n",
    "        loss = model.loss_NSM_conv(\n",
    "            outputs, images.to(device), repeat_labels, print_=False\n",
    "        )\n",
    "        # backward pass\n",
    "        model.train(outputs, images, repeat_labels)\n",
    "        if device.type == \"cuda\":\n",
    "            torch.cuda.empty_cache()\n",
    "\n",
    "        running_loss.append(loss.item())\n",
    "\n",
    "        pbar.set_postfix(\n",
    "            {\"sample\": sample, \"loss\": running_loss[-1] / batch_size}, refresh=False\n",
    "        )\n",
    "        sample += len(images)\n",
    "\n",
    "t1 = time.time()\n",
    "print(f\"Training took {t1 - t0:.2f} seconds.\")"
   ]
  },
  {
   "cell_type": "code",
   "execution_count": 17,
   "metadata": {},
   "outputs": [
    {
     "data": {
      "application/vnd.jupyter.widget-view+json": {
       "model_id": "84fb45bc1b194059a343287d24a0d253",
       "version_major": 2,
       "version_minor": 0
      },
      "text/plain": [
       "epoch 1 / 1:   0%|          | 0/600 [00:00<?, ?it/s]"
      ]
     },
     "metadata": {},
     "output_type": "display_data"
    },
    {
     "name": "stdout",
     "output_type": "stream",
     "text": [
      "Training took 34.79 seconds.\n"
     ]
    }
   ],
   "source": [
    "torch.manual_seed(42)\n",
    "\n",
    "# the encoder layer is convolutional\n",
    "encoder = torch.nn.Conv2d(1, 50, 6)\n",
    "encoder.weight.data = model_copy.encoder.weight.detach().clone()\n",
    "encoder.bias.data = model_copy.encoder.bias.detach().clone()\n",
    "encoder.bias.requires_grad_(False)\n",
    "new_model = SupervisedSimilarityMatching(\n",
    "    encoder, num_labels, 50, label_bias=True, iteration_projection=torch.nn.ReLU()\n",
    ")\n",
    "\n",
    "new_model.encoders[1].weight.data = 36 * model_copy.encoder_labels.weight.mean(\n",
    "    dim=[2, 3]\n",
    ").detach().clone()\n",
    "new_model.encoders[1].bias.data = model_copy.encoder_labels.bias.detach().clone()\n",
    "new_model.encoders[1].bias.requires_grad_(False)\n",
    "\n",
    "new_model.competitor.weight.data = model_copy.competitor.weight.detach().clone()\n",
    "\n",
    "new_model = new_model.to(device=device, dtype=torch.float64)\n",
    "\n",
    "optimizer = torch.optim.SGD(new_model.parameters(), lr=0.05)\n",
    "\n",
    "t0 = time.time()\n",
    "new_running_loss = []\n",
    "torch.manual_seed(42)\n",
    "for epoch in range(n_epochs):\n",
    "    pbar = tqdm(train_loader, desc=f\"epoch {epoch + 1} / {n_epochs}\")\n",
    "    sample = 0\n",
    "    for idx, data in enumerate(pbar):\n",
    "        images, labels = data\n",
    "\n",
    "        images = images.to(device=device, dtype=torch.float64)\n",
    "        one_hot_labels = F.one_hot(labels, num_classes=num_labels).to(\n",
    "            device=device, dtype=torch.float64\n",
    "        )\n",
    "\n",
    "        outputs = new_model(images, one_hot_labels)\n",
    "        # XXX the original code for some reason uses this different scaling...\n",
    "        loss = new_model.loss(images, one_hot_labels / 10.0, outputs)\n",
    "\n",
    "        optimizer.zero_grad()\n",
    "        loss.backward()\n",
    "        optimizer.step()\n",
    "\n",
    "        new_running_loss.append(loss.item())\n",
    "\n",
    "        pbar.set_postfix({\"sample\": sample, \"loss\": new_running_loss[-1]}, refresh=False)\n",
    "\n",
    "        sample += len(images)\n",
    "\n",
    "t1 = time.time()\n",
    "print(f\"Training took {t1 - t0:.2f} seconds.\")"
   ]
  },
  {
   "cell_type": "code",
   "execution_count": 18,
   "metadata": {},
   "outputs": [
    {
     "data": {
      "text/plain": [
       "<matplotlib.legend.Legend at 0x7f5d3a8f4c40>"
      ]
     },
     "execution_count": 18,
     "metadata": {},
     "output_type": "execute_result"
    },
    {
     "data": {
      "image/png": "[encoded data removed]",
      "text/plain": [
       "<Figure size 640x480 with 1 Axes>"
      ]
     },
     "metadata": {},
     "output_type": "display_data"
    }
   ],
   "source": [
    "fig, ax = plt.subplots()\n",
    "ax.plot(np.asarray(running_loss) / 50.0, label=\"old\")\n",
    "ax.plot(new_running_loss, label=\"new\")\n",
    "ax.legend(frameon=False)"
   ]
  },
  {
   "cell_type": "code",
   "execution_count": 19,
   "metadata": {},
   "outputs": [
    {
     "data": {
      "text/plain": [
       "tensor(0.0167, device='cuda:0', dtype=torch.float64, grad_fn=<MaxBackward1>)"
      ]
     },
     "execution_count": 19,
     "metadata": {},
     "output_type": "execute_result"
    }
   ],
   "source": [
    "(new_model.encoders[0].weight - model.encoder.weight).abs().max()"
   ]
  },
  {
   "cell_type": "code",
   "execution_count": 20,
   "metadata": {},
   "outputs": [
    {
     "data": {
      "text/plain": [
       "0.11569194911898435"
      ]
     },
     "execution_count": 20,
     "metadata": {},
     "output_type": "execute_result"
    }
   ],
   "source": [
    "np.abs(np.asarray(new_running_loss) - np.asarray(running_loss) / 50.0).max()"
   ]
  },
  {
   "cell_type": "code",
   "execution_count": 21,
   "metadata": {},
   "outputs": [
    {
     "data": {
      "text/plain": [
       "array([2.06893314e-09, 1.44125018e-04, 3.34289650e-04, 4.89097859e-04,\n",
       "       6.18390601e-04, 7.49111360e-04, 8.33788705e-04, 1.06875479e-03,\n",
       "       1.29717631e-03, 1.32385068e-03, 1.59292798e-03, 1.76753855e-03,\n",
       "       1.76199996e-03, 2.02983830e-03, 2.18693894e-03, 2.42732827e-03,\n",
       "       2.49806686e-03, 2.39595075e-03, 2.72232568e-03, 2.92433199e-03,\n",
       "       2.81327387e-03, 3.10591109e-03, 3.15890374e-03, 3.47125121e-03,\n",
       "       3.57189719e-03, 3.70579741e-03, 3.80505045e-03, 3.67566468e-03,\n",
       "       4.02361614e-03, 4.26030652e-03, 4.53043571e-03, 4.37398510e-03,\n",
       "       4.37480942e-03, 4.67763678e-03, 5.15221189e-03, 4.71975812e-03,\n",
       "       5.32119496e-03, 5.20419344e-03, 5.20950163e-03, 5.48685681e-03,\n",
       "       6.12036808e-03, 5.67031916e-03, 5.74793445e-03, 6.21074115e-03,\n",
       "       6.30165972e-03, 6.08130549e-03, 6.69870802e-03, 7.05465257e-03,\n",
       "       6.93264123e-03, 7.06151624e-03])"
      ]
     },
     "execution_count": 21,
     "metadata": {},
     "output_type": "execute_result"
    }
   ],
   "source": [
    "np.abs(np.asarray(new_running_loss) - np.asarray(running_loss) / 50.0)[:50]"
   ]
  },
  {
   "cell_type": "code",
   "execution_count": 22,
   "metadata": {},
   "outputs": [
    {
     "data": {
      "image/png": "[encoded data removed]",
      "text/plain": [
       "<Figure size 800x800 with 49 Axes>"
      ]
     },
     "metadata": {},
     "output_type": "display_data"
    }
   ],
   "source": [
    "filters = model.encoder.weight.detach().cpu().numpy()\n",
    "\n",
    "fig, ax = plt.subplots(7, 7, sharex=True, sharey=True, figsize=(8, 8))\n",
    "for i in range(7):\n",
    "    for j in range(7):\n",
    "        crt_filter = filters[i * 7 + j, 0]\n",
    "        crt_max = np.max(np.abs(crt_filter))\n",
    "        ax[i][j].imshow(crt_filter, vmin=-crt_max, vmax=crt_max, cmap=\"RdBu\")"
   ]
  },
  {
   "cell_type": "code",
   "execution_count": 23,
   "metadata": {},
   "outputs": [
    {
     "data": {
      "image/png": "[encoded data removed]",
      "text/plain": [
       "<Figure size 800x800 with 49 Axes>"
      ]
     },
     "metadata": {},
     "output_type": "display_data"
    }
   ],
   "source": [
    "filters = new_model.encoders[0].weight.detach().cpu().numpy()\n",
    "\n",
    "fig, ax = plt.subplots(7, 7, sharex=True, sharey=True, figsize=(8, 8))\n",
    "for i in range(7):\n",
    "    for j in range(7):\n",
    "        crt_filter = filters[i * 7 + j, 0]\n",
    "        crt_max = np.max(np.abs(crt_filter))\n",
    "        ax[i][j].imshow(crt_filter, vmin=-crt_max, vmax=crt_max, cmap=\"RdBu\")"
   ]
  },
  {
   "cell_type": "code",
   "execution_count": null,
   "metadata": {},
   "outputs": [],
   "source": []
  }
 ],
 "metadata": {
  "kernelspec": {
   "display_name": "Python 3",
   "language": "python",
   "name": "python3"
  },
  "language_info": {
   "codemirror_mode": {
    "name": "ipython",
    "version": 3
   },
   "file_extension": ".py",
   "mimetype": "text/x-python",
   "name": "python",
   "nbconvert_exporter": "python",
   "pygments_lexer": "ipython3",
   "version": "3.9.16"
  }
 },
 "nbformat": 4,
 "nbformat_minor": 4
}
