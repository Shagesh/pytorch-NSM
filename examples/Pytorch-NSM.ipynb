{
 "cells": [
  {
   "cell_type": "code",
   "execution_count": 1,
   "metadata": {},
   "outputs": [],
   "source": [
    "import time\n",
    "\n",
    "import matplotlib.pyplot as plt\n",
    "import seaborn as sns\n",
    "\n",
    "import numpy as np\n",
    "\n",
    "import torch\n",
    "import torch.nn.functional as F\n",
    "from torchvision import datasets, transforms\n",
    "\n",
    "from sklearn.linear_model import SGDClassifier\n",
    "\n",
    "from tqdm.auto import tqdm\n",
    "\n",
    "from pynsm import NSM_Conv, Supervised_NSM_Conv"
   ]
  },
  {
   "attachments": {},
   "cell_type": "markdown",
   "metadata": {},
   "source": [
    "## Load dataset and create data loaders"
   ]
  },
  {
   "cell_type": "code",
   "execution_count": 2,
   "metadata": {},
   "outputs": [],
   "source": [
    "# convert data to torch.FloatTensor\n",
    "transform = transforms.ToTensor()\n",
    "\n",
    "# load the training and test datasets\n",
    "dataset_name = \"MNIST\"\n",
    "# dataset_name = 'CIFAR10'\n",
    "\n",
    "if dataset_name == \"MNIST\":\n",
    "    train_data = datasets.MNIST(\n",
    "        root=\"data\", train=True, download=True, transform=transform\n",
    "    )\n",
    "    test_data = datasets.MNIST(\n",
    "        root=\"data\", train=False, download=True, transform=transform\n",
    "    )\n",
    "    classes = [str(i) for i in range(10)]\n",
    "if dataset_name == \"CIFAR10\":\n",
    "    transform = transforms.Compose(\n",
    "        [transforms.ToTensor(), transforms.Normalize((0.5, 0.5, 0.5), (0.5, 0.5, 0.5))]\n",
    "    )\n",
    "\n",
    "    train_data = datasets.CIFAR10(\n",
    "        root=\"data\", train=True, download=True, transform=transform\n",
    "    )\n",
    "    test_data = datasets.CIFAR10(\n",
    "        root=\"data\", train=False, download=True, transform=transform\n",
    "    )\n",
    "    classes = [\n",
    "        \"airplane\",\n",
    "        \"automobile\",\n",
    "        \"bird\",\n",
    "        \"cat\",\n",
    "        \"deer\",\n",
    "        \"dog\",\n",
    "        \"frog\",\n",
    "        \"horse\",\n",
    "        \"ship\",\n",
    "        \"truck\",\n",
    "    ]"
   ]
  },
  {
   "cell_type": "code",
   "execution_count": 3,
   "metadata": {},
   "outputs": [],
   "source": [
    "# Create training and test dataloaders\n",
    "# number of subprocesses to use for data loading\n",
    "# TT: num_workers > 0 can be problematic in notebooks\n",
    "num_workers = 0\n",
    "# how many samples per batch to load\n",
    "batch_size = 100\n",
    "\n",
    "train_loader = torch.utils.data.DataLoader(\n",
    "    train_data, batch_size=batch_size, num_workers=num_workers, shuffle=True\n",
    ")\n",
    "test_loader = torch.utils.data.DataLoader(\n",
    "    test_data, batch_size=batch_size, num_workers=num_workers, shuffle=False\n",
    ")"
   ]
  },
  {
   "cell_type": "code",
   "execution_count": 4,
   "metadata": {},
   "outputs": [
    {
     "name": "stdout",
     "output_type": "stream",
     "text": [
      "batch min=0, mean=0.136, max=1\n"
     ]
    },
    {
     "data": {
      "image/png": "[encoded data removed]",
      "text/plain": [
       "<Figure size 800x800 with 9 Axes>"
      ]
     },
     "metadata": {},
     "output_type": "display_data"
    }
   ],
   "source": [
    "# show sample images\n",
    "torch.manual_seed(42)\n",
    "\n",
    "X_batch, y_batch = next(iter(train_loader))\n",
    "X_max = X_batch.max()\n",
    "X_min = X_batch.min()\n",
    "\n",
    "print(f\"batch min={X_min:.3g}, mean={X_batch.mean():.3g}, max={X_max:.3g}\")\n",
    "\n",
    "# create a grid of 3x3 images\n",
    "fig, ax = plt.subplots(3, 3, sharex=True, sharey=True, figsize=(8, 8))\n",
    "for i in range(3):\n",
    "    for j in range(3):\n",
    "        batch_idx = i * 3 + j\n",
    "        crt_X = X_batch[batch_idx]\n",
    "        ax[i][j].imshow(crt_X.numpy().squeeze(), vmin=X_min, vmax=X_max, cmap=\"gray\")\n",
    "        ax[i][j].set_title(classes[y_batch[batch_idx].item()])"
   ]
  },
  {
   "attachments": {},
   "cell_type": "markdown",
   "metadata": {},
   "source": [
    "## Try the convolutional NSM module"
   ]
  },
  {
   "cell_type": "code",
   "execution_count": 5,
   "metadata": {
    "scrolled": true
   },
   "outputs": [
    {
     "name": "stdout",
     "output_type": "stream",
     "text": [
      "Running on cuda.\n"
     ]
    },
    {
     "data": {
      "application/vnd.jupyter.widget-view+json": {
       "model_id": "3b6796ffc12e4e73ba8728e03582217e",
       "version_major": 2,
       "version_minor": 0
      },
      "text/plain": [
       "epoch 1 / 3:   0%|          | 0/600 [00:00<?, ?it/s]"
      ]
     },
     "metadata": {},
     "output_type": "display_data"
    },
    {
     "name": "stderr",
     "output_type": "stream",
     "text": [
      "/mnt/home/ttesileanu/miniconda3/envs/pynsm/lib/python3.9/site-packages/torch/nn/modules/conv.py:459: UserWarning: Applied workaround for CuDNN issue, install nvrtc.so (Triggered internally at /opt/conda/conda-bld/pytorch_1682343997789/work/aten/src/ATen/native/cudnn/Conv_v8.cpp:80.)\n",
      "  return F.conv2d(input, weight, bias, self.stride,\n"
     ]
    },
    {
     "data": {
      "application/vnd.jupyter.widget-view+json": {
       "model_id": "86b10c7d2cca40098db167cc3ced63fc",
       "version_major": 2,
       "version_minor": 0
      },
      "text/plain": [
       "epoch 2 / 3:   0%|          | 0/600 [00:00<?, ?it/s]"
      ]
     },
     "metadata": {},
     "output_type": "display_data"
    },
    {
     "data": {
      "application/vnd.jupyter.widget-view+json": {
       "model_id": "486169f7d9bf45a790d1c1c73443ed7b",
       "version_major": 2,
       "version_minor": 0
      },
      "text/plain": [
       "epoch 3 / 3:   0%|          | 0/600 [00:00<?, ?it/s]"
      ]
     },
     "metadata": {},
     "output_type": "display_data"
    },
    {
     "name": "stdout",
     "output_type": "stream",
     "text": [
      "Training took 35.58 seconds.\n"
     ]
    }
   ],
   "source": [
    "torch.manual_seed(42)\n",
    "\n",
    "device = torch.device(\"cuda\" if torch.cuda.is_available() else \"cpu\")\n",
    "print(f\"Running on {device}.\")\n",
    "\n",
    "n_epochs = 3\n",
    "model = NSM_Conv(1, 50, 6).to(device)\n",
    "\n",
    "t0 = time.time()\n",
    "running_loss = []\n",
    "for epoch in range(n_epochs):\n",
    "    pbar = tqdm(train_loader, desc=f\"epoch {epoch + 1} / {n_epochs}\")\n",
    "    sample = 0\n",
    "    for idx, data in enumerate(pbar):\n",
    "        images, labels = data\n",
    "\n",
    "        images = images.to(device)\n",
    "        labels = labels.to(device)\n",
    "\n",
    "        labels = F.one_hot(labels)\n",
    "\n",
    "        outputs = model(images)\n",
    "        model.train(outputs, images)\n",
    "\n",
    "        pooled_outputs = model.pool_output(outputs, k_size=2, stri=2)\n",
    "        loss = model.loss_NSM_conv(outputs, images)\n",
    "        running_loss.append(loss.item())\n",
    "\n",
    "        pbar.set_postfix(\n",
    "            {\"sample\": sample, \"loss\": running_loss[-1] / batch_size}, refresh=False\n",
    "        )\n",
    "\n",
    "        sample += len(images)\n",
    "\n",
    "t1 = time.time()\n",
    "print(f\"Training took {t1 - t0:.2f} seconds.\")"
   ]
  },
  {
   "cell_type": "code",
   "execution_count": 6,
   "metadata": {},
   "outputs": [
    {
     "data": {
      "text/plain": [
       "Text(0, 0.5, 'loss')"
      ]
     },
     "execution_count": 6,
     "metadata": {},
     "output_type": "execute_result"
    },
    {
     "data": {
      "image/png": "[encoded data removed]",
      "text/plain": [
       "<Figure size 640x480 with 1 Axes>"
      ]
     },
     "metadata": {},
     "output_type": "display_data"
    }
   ],
   "source": [
    "fig, ax = plt.subplots()\n",
    "ax.plot(running_loss, lw=1.0)\n",
    "ax.set_xlabel(\"batch\")\n",
    "ax.set_ylabel(\"loss\")"
   ]
  },
  {
   "cell_type": "code",
   "execution_count": 7,
   "metadata": {},
   "outputs": [
    {
     "data": {
      "image/png": "[encoded data removed]",
      "text/plain": [
       "<Figure size 800x800 with 49 Axes>"
      ]
     },
     "metadata": {},
     "output_type": "display_data"
    }
   ],
   "source": [
    "filters = model.encoder.weight.detach().cpu().numpy()\n",
    "\n",
    "fig, ax = plt.subplots(7, 7, sharex=True, sharey=True, figsize=(8, 8))\n",
    "for i in range(7):\n",
    "    for j in range(7):\n",
    "        crt_filter = filters[i * 7 + j, 0]\n",
    "        crt_max = np.max(np.abs(crt_filter))\n",
    "        ax[i][j].imshow(crt_filter, vmin=-crt_max, vmax=crt_max, cmap=\"RdBu\")"
   ]
  },
  {
   "cell_type": "code",
   "execution_count": 7,
   "metadata": {},
   "outputs": [
    {
     "data": {
      "application/vnd.jupyter.widget-view+json": {
       "model_id": "6491fa59876546c7aad805975398c493",
       "version_major": 2,
       "version_minor": 0
      },
      "text/plain": [
       "train:   0%|          | 0/600 [00:00<?, ?it/s]"
      ]
     },
     "metadata": {},
     "output_type": "display_data"
    },
    {
     "data": {
      "application/vnd.jupyter.widget-view+json": {
       "model_id": "5e7dd407fc87417597dc1265bd2fbb94",
       "version_major": 2,
       "version_minor": 0
      },
      "text/plain": [
       "test:   0%|          | 0/100 [00:00<?, ?it/s]"
      ]
     },
     "metadata": {},
     "output_type": "display_data"
    }
   ],
   "source": [
    "train_labels_data = []\n",
    "train_embedded_data = []\n",
    "\n",
    "###########################################\n",
    "# Extract train set values after training #\n",
    "###########################################\n",
    "for idx, data in enumerate(tqdm(train_loader, desc=\"train\")):\n",
    "    images, lbl = data\n",
    "\n",
    "    outputs = model(images.to(device))\n",
    "    pooled_outputs = model.pool_output(outputs, k_size=2, stri=2)\n",
    "\n",
    "    if train_embedded_data == []:\n",
    "        train_embedded_data = pooled_outputs.detach().cpu()\n",
    "        train_labels_data = lbl\n",
    "    else:\n",
    "        train_embedded_data = torch.cat(\n",
    "            (train_embedded_data, pooled_outputs.detach().cpu()), 0\n",
    "        )\n",
    "        train_labels_data = torch.cat((train_labels_data, lbl), 0)\n",
    "\n",
    "test_labels_data = []\n",
    "test_embedded_data = []\n",
    "\n",
    "##########################################\n",
    "# Extract test set values after training #\n",
    "##########################################\n",
    "for idx, data in enumerate(tqdm(test_loader, desc=\"test\")):\n",
    "    images, lbl = data\n",
    "\n",
    "    outputs = model(images.to(device))\n",
    "    pooled_outputs = model.pool_output(outputs, k_size=2, stri=2)\n",
    "\n",
    "    if test_embedded_data == []:\n",
    "        test_embedded_data = pooled_outputs.detach().cpu()\n",
    "        test_labels_data = lbl\n",
    "    else:\n",
    "        test_embedded_data = torch.cat(\n",
    "            (test_embedded_data, pooled_outputs.detach().cpu()), 0\n",
    "        )\n",
    "        test_labels_data = torch.cat((test_labels_data, lbl), 0)"
   ]
  },
  {
   "cell_type": "code",
   "execution_count": 8,
   "metadata": {},
   "outputs": [
    {
     "name": "stdout",
     "output_type": "stream",
     "text": [
      "Accuracy of the network on the 10000 test images: 98.2%.\n"
     ]
    }
   ],
   "source": [
    "n_train = len(train_embedded_data)\n",
    "resh_train_embedded_data = train_embedded_data.reshape(n_train, -1)\n",
    "\n",
    "rng = np.random.default_rng(42)\n",
    "indices = rng.integers(0, n_train, size=n_train)\n",
    "data = resh_train_embedded_data.numpy()[indices, :]\n",
    "target = train_labels_data[indices].numpy()\n",
    "\n",
    "classifier = SGDClassifier(\n",
    "    alpha=0.0001,\n",
    "    average=False,\n",
    "    class_weight=None,\n",
    "    early_stopping=False,\n",
    "    epsilon=0.1,\n",
    "    eta0=0.001,\n",
    "    fit_intercept=True,\n",
    "    l1_ratio=0.15,\n",
    "    learning_rate=\"optimal\",\n",
    "    loss=\"hinge\",\n",
    "    max_iter=1000,\n",
    "    n_iter_no_change=5,\n",
    "    n_jobs=-1,\n",
    "    penalty=\"l2\",\n",
    "    power_t=0.5,\n",
    "    random_state=123,\n",
    "    shuffle=True,\n",
    "    tol=0.001,\n",
    "    validation_fraction=0.1,\n",
    "    verbose=0,\n",
    "    warm_start=False,\n",
    ")\n",
    "classifier.fit(data, target)\n",
    "\n",
    "train_error = classifier.score(data, target)\n",
    "\n",
    "n_test = len(test_embedded_data)\n",
    "resh_test_embedded_data = test_embedded_data.reshape(n_test, -1)\n",
    "score = classifier.score(resh_test_embedded_data.numpy(), test_labels_data.numpy())\n",
    "\n",
    "print(f\"Accuracy of the network on the 10000 test images: {100 * score:.1f}%.\")"
   ]
  },
  {
   "attachments": {},
   "cell_type": "markdown",
   "metadata": {},
   "source": [
    "## Try the supervised convolutional NSM module"
   ]
  },
  {
   "cell_type": "code",
   "execution_count": 9,
   "metadata": {
    "scrolled": true
   },
   "outputs": [
    {
     "data": {
      "application/vnd.jupyter.widget-view+json": {
       "model_id": "d575ffdfd6e84085afb5cafafb23981d",
       "version_major": 2,
       "version_minor": 0
      },
      "text/plain": [
       "epoch 1 / 3:   0%|          | 0/600 [00:00<?, ?it/s]"
      ]
     },
     "metadata": {},
     "output_type": "display_data"
    },
    {
     "data": {
      "application/vnd.jupyter.widget-view+json": {
       "model_id": "96bd1fc72f52421a901fea16bb7f9611",
       "version_major": 2,
       "version_minor": 0
      },
      "text/plain": [
       "epoch 2 / 3:   0%|          | 0/600 [00:00<?, ?it/s]"
      ]
     },
     "metadata": {},
     "output_type": "display_data"
    },
    {
     "data": {
      "application/vnd.jupyter.widget-view+json": {
       "model_id": "b3c7fc8d347d4493babd86f31ce52025",
       "version_major": 2,
       "version_minor": 0
      },
      "text/plain": [
       "epoch 3 / 3:   0%|          | 0/600 [00:00<?, ?it/s]"
      ]
     },
     "metadata": {},
     "output_type": "display_data"
    }
   ],
   "source": [
    "torch.manual_seed(42)\n",
    "n_epochs = 3\n",
    "\n",
    "# tau = np.array([1e4, 1e1])\n",
    "num_labels = len(classes)\n",
    "# alpha_ = np.logspace(2, -2, 5)\n",
    "running_loss = []\n",
    "alpha = 1e-1\n",
    "tau = 1e-1\n",
    "tauLabel = 1e0\n",
    "# for tau_ in tau:\n",
    "# Train the model\n",
    "# for tauLabel in alpha_:\n",
    "model = Supervised_NSM_Conv(\n",
    "    1, 50, 6, num_labels, etaW=1e-3, etaM=1e-3, tau=tau, tauLabel=tauLabel\n",
    ").to(device)\n",
    "for epoch in range(n_epochs):\n",
    "    pbar = tqdm(train_loader, desc=f\"epoch {epoch + 1} / {n_epochs}\")\n",
    "    sample = 0\n",
    "    for idx, data in enumerate(pbar):\n",
    "        images, labels = data\n",
    "\n",
    "        images = images.to(device)\n",
    "        labels = labels.to(device)\n",
    "\n",
    "        one_hot_labels = F.one_hot(labels, num_classes=num_labels)\n",
    "        repeat_labels = torch.tile(\n",
    "            alpha * one_hot_labels[:, :, None, None], images.shape[2:4]\n",
    "        )\n",
    "        # repeat_labels = einops.repeat(\n",
    "        #     alpha * one_hot_labels,\n",
    "        #     \"m n -> m n k l\",\n",
    "        #     k=images.shape[2],\n",
    "        #     l=images.shape[3],\n",
    "        # ).float()\n",
    "\n",
    "        # forward pass\n",
    "        # XXX why are the labels multiplied by 10 only here??\n",
    "        outputs = model(images, 10 * repeat_labels)\n",
    "        # loss estimation\n",
    "        loss = model.loss_NSM_conv(\n",
    "            outputs, images.to(device), repeat_labels, print_=False\n",
    "        )\n",
    "        # backward pass\n",
    "        model.train(outputs, images, repeat_labels)\n",
    "        if device.type == \"cuda\":\n",
    "            torch.cuda.empty_cache()\n",
    "\n",
    "        running_loss.append(loss.item())\n",
    "\n",
    "        pbar.set_postfix(\n",
    "            {\"sample\": sample, \"loss\": running_loss[-1] / batch_size}, refresh=False\n",
    "        )\n",
    "        sample += len(images)"
   ]
  },
  {
   "cell_type": "code",
   "execution_count": 10,
   "metadata": {},
   "outputs": [
    {
     "data": {
      "image/png": "[encoded data removed]",
      "text/plain": [
       "<Figure size 800x800 with 49 Axes>"
      ]
     },
     "metadata": {},
     "output_type": "display_data"
    }
   ],
   "source": [
    "filters = model.encoder.weight.detach().cpu().numpy()\n",
    "\n",
    "fig, ax = plt.subplots(7, 7, sharex=True, sharey=True, figsize=(8, 8))\n",
    "for i in range(7):\n",
    "    for j in range(7):\n",
    "        crt_filter = filters[i * 7 + j, 0]\n",
    "        crt_max = np.max(np.abs(crt_filter))\n",
    "        ax[i][j].imshow(crt_filter, vmin=-crt_max, vmax=crt_max, cmap=\"RdBu\")"
   ]
  },
  {
   "cell_type": "code",
   "execution_count": 11,
   "metadata": {},
   "outputs": [
    {
     "data": {
      "application/vnd.jupyter.widget-view+json": {
       "model_id": "a4e5e9f739ad4b1d809915f8ff8d291b",
       "version_major": 2,
       "version_minor": 0
      },
      "text/plain": [
       "train:   0%|          | 0/600 [00:00<?, ?it/s]"
      ]
     },
     "metadata": {},
     "output_type": "display_data"
    },
    {
     "data": {
      "application/vnd.jupyter.widget-view+json": {
       "model_id": "41f7c810b779468685d9b9c2889da07f",
       "version_major": 2,
       "version_minor": 0
      },
      "text/plain": [
       "test:   0%|          | 0/100 [00:00<?, ?it/s]"
      ]
     },
     "metadata": {},
     "output_type": "display_data"
    }
   ],
   "source": [
    "train_labels_data = []\n",
    "train_embedded_data = []\n",
    "\n",
    "###########################################\n",
    "# Extract train set values after training #\n",
    "###########################################\n",
    "for idx, data in enumerate(tqdm(train_loader, desc=\"train\")):\n",
    "    images, labels = data\n",
    "\n",
    "    mock_labels = torch.zeros(len(labels), num_labels, *images.shape[2:4])\n",
    "    # one_hot_labels = torch.nn.functional.one_hot(labels, num_classes=num_labels)\n",
    "    # repeat_labels = einops.repeat(\n",
    "    #     0 * one_hot_labels, \"m n -> m n k l\", k=images.shape[2], l=images.shape[3]\n",
    "    # ).float()\n",
    "\n",
    "    # forward pass\n",
    "    outputs = model(images.to(device), mock_labels.to(device))\n",
    "    pooled_outputs = model.pool_output(outputs, k_size=2, stri=2)\n",
    "\n",
    "    if train_embedded_data == []:\n",
    "        train_embedded_data = pooled_outputs.detach().cpu()\n",
    "        train_labels_data = labels\n",
    "    else:\n",
    "        train_embedded_data = torch.cat(\n",
    "            (train_embedded_data, pooled_outputs.detach().cpu()), 0\n",
    "        )\n",
    "        train_labels_data = torch.cat((train_labels_data, labels), 0)\n",
    "\n",
    "test_labels_data = []\n",
    "test_embedded_data = []\n",
    "\n",
    "##########################################\n",
    "# Extract test set values after training #\n",
    "##########################################\n",
    "for idx, data in enumerate(tqdm(test_loader, desc=\"test\")):\n",
    "    images, labels = data\n",
    "\n",
    "    mock_labels = torch.zeros(len(labels), num_labels, *images.shape[2:4])\n",
    "    # one_hot_labels = torch.nn.functional.one_hot(labels, num_classes=num_labels)\n",
    "    # repeat_labels = einops.repeat(\n",
    "    #     0 * one_hot_labels, \"m n -> m n k l\", k=images.shape[2], l=images.shape[3]\n",
    "    # ).float()\n",
    "\n",
    "    # forward pass\n",
    "    outputs = model(images.to(device), mock_labels.to(device))\n",
    "    pooled_outputs = model.pool_output(outputs, k_size=2, stri=2)\n",
    "\n",
    "    if test_embedded_data == []:\n",
    "        test_embedded_data = pooled_outputs.detach().cpu()\n",
    "        test_labels_data = labels\n",
    "    else:\n",
    "        test_embedded_data = torch.cat(\n",
    "            (test_embedded_data, pooled_outputs.detach().cpu()), 0\n",
    "        )\n",
    "        test_labels_data = torch.cat((test_labels_data, labels), 0)"
   ]
  },
  {
   "cell_type": "code",
   "execution_count": 12,
   "metadata": {},
   "outputs": [
    {
     "name": "stdout",
     "output_type": "stream",
     "text": [
      "Accuracy of the network on the 10000 test images: 97.9%.\n"
     ]
    }
   ],
   "source": [
    "n_train = len(train_embedded_data)\n",
    "resh_train_embedded_data = train_embedded_data.reshape(n_train, -1)\n",
    "\n",
    "rng = np.random.default_rng(42)\n",
    "indices = rng.integers(0, n_train, size=n_train)\n",
    "data = resh_train_embedded_data.numpy()[indices, :]\n",
    "target = train_labels_data[indices]\n",
    "\n",
    "classifier = SGDClassifier(\n",
    "    alpha=0.0001,\n",
    "    average=False,\n",
    "    class_weight=None,\n",
    "    early_stopping=False,\n",
    "    epsilon=0.1,\n",
    "    eta0=0.001,\n",
    "    fit_intercept=True,\n",
    "    l1_ratio=0.15,\n",
    "    learning_rate=\"optimal\",\n",
    "    loss=\"hinge\",\n",
    "    max_iter=1000,\n",
    "    n_iter_no_change=5,\n",
    "    n_jobs=-1,\n",
    "    penalty=\"l2\",\n",
    "    power_t=0.5,\n",
    "    random_state=123,\n",
    "    shuffle=True,\n",
    "    tol=0.001,\n",
    "    validation_fraction=0.1,\n",
    "    verbose=0,\n",
    "    warm_start=False,\n",
    ")\n",
    "classifier.fit(data, target)\n",
    "\n",
    "train_error = classifier.score(data, target)\n",
    "\n",
    "n_test = len(test_embedded_data)\n",
    "resh_test_embedded_data = test_embedded_data.reshape(n_test, -1)\n",
    "data_test = resh_test_embedded_data.numpy()\n",
    "target_test = test_labels_data.numpy()\n",
    "score = classifier.score(data_test, target_test)\n",
    "\n",
    "print(f\"Accuracy of the network on the 10000 test images: {100 * score:.1f}%.\")"
   ]
  },
  {
   "cell_type": "code",
   "execution_count": 13,
   "metadata": {},
   "outputs": [],
   "source": [
    "# alpha = 1e0\n",
    "# tau = 1e-1\n",
    "# tauLabel = 1e0\n",
    "# Accuracy = 23%\n",
    "\n",
    "# alpha = 1e-1\n",
    "# tau = 1e0\n",
    "# tauLabel = 1e1\n",
    "# Accuracy = 34%\n",
    "\n",
    "# alpha = 1e-1\n",
    "# tau = 1e-1\n",
    "# tauLabel = 1e0\n",
    "# Accuracy = 33%\n",
    "\n",
    "# alpha = 0\n",
    "# tau = 1e-1\n",
    "# tauLabel = 1e0\n",
    "# Accuracy = 34%"
   ]
  },
  {
   "cell_type": "code",
   "execution_count": null,
   "metadata": {},
   "outputs": [],
   "source": []
  }
 ],
 "metadata": {
  "kernelspec": {
   "display_name": "Python 3",
   "language": "python",
   "name": "python3"
  },
  "language_info": {
   "codemirror_mode": {
    "name": "ipython",
    "version": 3
   },
   "file_extension": ".py",
   "mimetype": "text/x-python",
   "name": "python",
   "nbconvert_exporter": "python",
   "pygments_lexer": "ipython3",
   "version": "3.9.16"
  }
 },
 "nbformat": 4,
 "nbformat_minor": 4
}
